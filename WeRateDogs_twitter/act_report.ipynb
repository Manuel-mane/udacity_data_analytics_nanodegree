{
 "cells": [
  {
   "cell_type": "markdown",
   "metadata": {},
   "source": [
    "# <font color='navy'>WeRateDogs Analysis</font>\n",
    "\n",
    "\n",
    "\n",
    "![title](images/we_rate_dogs.jpg)\n",
    "\n",
    "\n",
    "### Neural network prediction efficiency\n",
    "\n",
    "In our dataset, a neural network was ran to the images of the dog to clasify the top 3 breeds of dogs the images are most similar with. As it could be expected and the figure of below demonstrates, the first predicted breed of this neural network is the most confident or the one with highest precision predicting the breed of the dog.\n",
    "\n",
    "\n",
    "![title](images/algorithms.png)\n",
    "\n",
    "### Top 10 most common dog races on WeRateDogs\n",
    "\n",
    "As the first prediction showed to have the highest precision and confidence in predicting the dog race of the images, I used these results to extract the tmost common dog race on WeRateDogs. As both of the visualizations of below shows, the top 10 most common dogs on WeRateDogs coincide with the most favorite and retweet dog race.\n",
    "\n",
    "![title](images/most_common_dogs.png)\n",
    "![title](images/top_favorite.png)\n",
    "\n",
    "Below are the top 3 most common dog race on WeRateDog. Most of them the kind of dog your neighbor has :)\n",
    "\n",
    "#### Golden retriever\n",
    "\n",
    "![title](images/golden_retriever.jpg)\n",
    "\n",
    "The Golden Retriever is one of the most popular dog breeds in the United States. The breed’s friendly, tolerant attitude makes them great family pets, and their intelligence makes them highly capable working dogs.\n",
    "\n",
    "#### Labrador retriever\n",
    "\n",
    "![title](images/labrador_retriever.jpg)\n",
    "\n",
    "\n",
    "The Labrador Retriever was bred to be both a friendly companion and a useful working dog breed. Historically, they earned their keep as fishermen’s helpers: hauling nets, fetching ropes, and retrieving fish from the chilly North Atlantic.\n",
    "\n",
    "#### Pembroke Welsh Corgi\n",
    "\n",
    "![title](images/pembroke.png)\n",
    "\n",
    "Originally bred to herd cattle, sheep, and horses, the Pembroke Welsh Corgi is an active and intelligent dog breed. Easy to train and eager to learn, Pembrokes are great with children and other pets, and you can find them in four different coat colors and markings.\n",
    "\n",
    "### Top 10 dogs with higher ratings\n",
    "\n",
    "![title](images/top_rate.png)\n",
    "\n",
    "As the graph above shows, the top rated dogs are not necessarily the most common dogs on WeRateDogs. This is usually due because the top rated dog race are usually the less common, or the harder and most difficult to find. \n",
    "\n",
    "Below are the top three most rated dog on WeRateDogs, they are some of the cutest dog races and weirder to find around the city. You could clearly understand why they are the highest rated dog race.\n",
    "\n",
    "#### Saluki\n",
    "\n",
    "![title](images/saluki.jpg)\n",
    "\n",
    "One of the oldest of dog breeds, Salukis were once considered a gift from Allah. They’re fast as the wind, skinny as a supermodel, and quietly devoted to their people.\n",
    "\n",
    "\n",
    "\n",
    "#### Briard\n",
    "\n",
    "![title](images/briard.jpg)\n",
    "\n",
    "Underneath the Briard’s long, shaggy coat lies a bold spirit and keen intelligence. True to their French roots, they can be aloof with strangers, but are affectionate and loving toward members of their pack.\n",
    "\n",
    "#### Tibetan Mastif\n",
    "\n",
    "![title](images/tibetan_mastiff.jpg)\n",
    "\n",
    "This still-primitive Tibetan Mastiff dog breed was developed centuries ago in Tibet. Originally used as guard dogs for livestock and property, Tibetan Mastiffs can still be found performing that role, but they also enjoy life as family companions and show dogs."
   ]
  },
  {
   "cell_type": "markdown",
   "metadata": {},
   "source": [
    "## References\n",
    "\n",
    "**[Dogtime](https://dogtime.com/)**"
   ]
  },
  {
   "cell_type": "code",
   "execution_count": null,
   "metadata": {},
   "outputs": [],
   "source": []
  }
 ],
 "metadata": {
  "kernelspec": {
   "display_name": "Python 3",
   "language": "python",
   "name": "python3"
  },
  "language_info": {
   "codemirror_mode": {
    "name": "ipython",
    "version": 3
   },
   "file_extension": ".py",
   "mimetype": "text/x-python",
   "name": "python",
   "nbconvert_exporter": "python",
   "pygments_lexer": "ipython3",
   "version": "3.8.5"
  }
 },
 "nbformat": 4,
 "nbformat_minor": 4
}
